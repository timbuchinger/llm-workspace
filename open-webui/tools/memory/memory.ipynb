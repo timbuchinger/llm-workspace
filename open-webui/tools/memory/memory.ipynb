{
 "cells": [
  {
   "cell_type": "code",
   "execution_count": 10,
   "metadata": {},
   "outputs": [],
   "source": [
    "import os\n",
    "\n",
    "import chromadb\n",
    "from chromadb.config import Settings\n",
    "from dotenv import load_dotenv\n",
    "\n",
    "load_dotenv(dotenv_path='./memory/.env')\n",
    "\n",
    "remote_db = chromadb.HttpClient(\n",
    "    settings=Settings(\n",
    "        anonymized_telemetry=False,\n",
    "        chroma_client_auth_provider=\"chromadb.auth.token_authn.TokenAuthClientProvider\",\n",
    "        chroma_client_auth_credentials=os.environ.get(\"CHROMA_AUTH_TOKEN\"),\n",
    "    ),\n",
    "    host=os.environ.get(\"CHROMA_HOST\"),\n",
    "    port=int(os.environ.get(\"CHROMA_PORT\", 8000)),\n",
    "    ssl=os.environ.get(\"CHROMA_USE_SSL\", \"false\").lower() == \"true\",\n",
    ")\n",
    "\n",
    "remote_db.create_collection(\"memories\")\n",
    "chroma_collection = remote_db.get_collection(\"memories\")\n",
    "# remote_db.delete_collection(\"memories\")"
   ]
  }
 ],
 "metadata": {
  "kernelspec": {
   "display_name": ".venv",
   "language": "python",
   "name": "python3"
  },
  "language_info": {
   "codemirror_mode": {
    "name": "ipython",
    "version": 3
   },
   "file_extension": ".py",
   "mimetype": "text/x-python",
   "name": "python",
   "nbconvert_exporter": "python",
   "pygments_lexer": "ipython3",
   "version": "3.12.3"
  }
 },
 "nbformat": 4,
 "nbformat_minor": 2
}
